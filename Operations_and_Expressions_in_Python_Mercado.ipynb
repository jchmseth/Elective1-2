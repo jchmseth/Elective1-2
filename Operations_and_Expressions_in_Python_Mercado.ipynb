{
  "nbformat": 4,
  "nbformat_minor": 0,
  "metadata": {
    "colab": {
      "name": "Operations and Expressions in Python - Mercado.ipynb",
      "provenance": [],
      "authorship_tag": "ABX9TyOR00pt7RP6oFR2zoecl2Ch",
      "include_colab_link": true
    },
    "kernelspec": {
      "name": "python3",
      "display_name": "Python 3"
    },
    "language_info": {
      "name": "python"
    }
  },
  "cells": [
    {
      "cell_type": "markdown",
      "metadata": {
        "id": "view-in-github",
        "colab_type": "text"
      },
      "source": [
        "<a href=\"https://colab.research.google.com/github/jchmseth/Elective1-2/blob/main/Operations_and_Expressions_in_Python_Mercado.ipynb\" target=\"_parent\"><img src=\"https://colab.research.google.com/assets/colab-badge.svg\" alt=\"Open In Colab\"/></a>"
      ]
    },
    {
      "cell_type": "markdown",
      "source": [
        "##Boolean Operators"
      ],
      "metadata": {
        "id": "WPg7SoSw1png"
      }
    },
    {
      "cell_type": "code",
      "source": [
        "##Boolean Operators\n",
        "\n",
        "print(10>9)\n",
        "print(9==9)\n",
        "print(10<9)"
      ],
      "metadata": {
        "colab": {
          "base_uri": "https://localhost:8080/"
        },
        "id": "6G1vkSB800Rf",
        "outputId": "a5a50aa6-b549-40bd-8eab-1b973ac6f188"
      },
      "execution_count": 6,
      "outputs": [
        {
          "output_type": "stream",
          "name": "stdout",
          "text": [
            "True\n",
            "True\n",
            "False\n"
          ]
        }
      ]
    },
    {
      "cell_type": "code",
      "source": [
        "10>9\n",
        "9==9\n",
        "10<9"
      ],
      "metadata": {
        "colab": {
          "base_uri": "https://localhost:8080/"
        },
        "id": "gpqd5LBu0_zX",
        "outputId": "5834bd6f-391b-4b5c-8aab-0640d81ef871"
      },
      "execution_count": 3,
      "outputs": [
        {
          "output_type": "execute_result",
          "data": {
            "text/plain": [
              "False"
            ]
          },
          "metadata": {},
          "execution_count": 3
        }
      ]
    },
    {
      "cell_type": "markdown",
      "source": [
        "##Bool Function\n"
      ],
      "metadata": {
        "id": "ifjs6h7p18Wi"
      }
    },
    {
      "cell_type": "code",
      "source": [
        "    print(bool(\"Hello\"))\n",
        "    print(bool(15))\n",
        "\n",
        "    print(bool())\n",
        "    print(bool(0))\n",
        "    print(bool(False))\n",
        "    print(bool(None))\n",
        "    print(bool([]))"
      ],
      "metadata": {
        "colab": {
          "base_uri": "https://localhost:8080/"
        },
        "id": "CnKLOZgL2B4F",
        "outputId": "99877c67-1610-4292-bd2e-89bad31d38a5"
      },
      "execution_count": 11,
      "outputs": [
        {
          "output_type": "stream",
          "name": "stdout",
          "text": [
            "True\n",
            "True\n",
            "False\n",
            "False\n",
            "False\n",
            "False\n",
            "False\n"
          ]
        }
      ]
    },
    {
      "cell_type": "markdown",
      "source": [
        "##Functions"
      ],
      "metadata": {
        "id": "JDkOyex92qSO"
      }
    },
    {
      "cell_type": "code",
      "source": [
        "    def myFunction():\n",
        "      return False\n",
        "\n",
        "    print(myFunction())"
      ],
      "metadata": {
        "colab": {
          "base_uri": "https://localhost:8080/"
        },
        "id": "g7zmYmIZ2seN",
        "outputId": "5b800dd5-3601-4585-d0fc-5b8ca8662f6c"
      },
      "execution_count": 15,
      "outputs": [
        {
          "output_type": "stream",
          "name": "stdout",
          "text": [
            "False\n"
          ]
        }
      ]
    },
    {
      "cell_type": "code",
      "source": [
        "  def myFunction():\n",
        "    return False\n",
        "\n",
        "  if myFunction():\n",
        "    print(\"Yes\")\n",
        "  else:\n",
        "    print(\"No\")"
      ],
      "metadata": {
        "colab": {
          "base_uri": "https://localhost:8080/"
        },
        "id": "0srZWyFM2-jX",
        "outputId": "db28d378-4ec4-4490-ff65-5c657b2e60cf"
      },
      "execution_count": 16,
      "outputs": [
        {
          "output_type": "stream",
          "name": "stdout",
          "text": [
            "No\n"
          ]
        }
      ]
    },
    {
      "cell_type": "markdown",
      "source": [
        "#Python Operator"
      ],
      "metadata": {
        "id": "8yEjV9oe3KyF"
      }
    },
    {
      "cell_type": "code",
      "source": [
        "#Arithmetic Operator\n",
        "\n",
        "print(10+9)\n",
        "print(10-9)\n",
        "print(10*9)\n",
        "print(10/5)\n",
        "print(10**2)"
      ],
      "metadata": {
        "colab": {
          "base_uri": "https://localhost:8080/"
        },
        "id": "gLAhy8Jq3NJ9",
        "outputId": "b1c69d19-3cfd-4d20-fc12-7fe4e0a362b7"
      },
      "execution_count": 17,
      "outputs": [
        {
          "output_type": "stream",
          "name": "stdout",
          "text": [
            "19\n",
            "1\n",
            "90\n",
            "2.0\n",
            "100\n"
          ]
        }
      ]
    },
    {
      "cell_type": "markdown",
      "source": [
        "##Python Bitwise Operators"
      ],
      "metadata": {
        "id": "eSt9pznP3af0"
      }
    },
    {
      "cell_type": "code",
      "source": [
        "  print(60 & 13)\n",
        "  print(60 | 13)\n",
        "  print(60 ^ 13)\n",
        "\n",
        "  60 >> 2"
      ],
      "metadata": {
        "colab": {
          "base_uri": "https://localhost:8080/"
        },
        "id": "4UBYT3vo3eNU",
        "outputId": "045ca368-d357-4679-e2df-8c0974bc1f58"
      },
      "execution_count": 18,
      "outputs": [
        {
          "output_type": "stream",
          "name": "stdout",
          "text": [
            "12\n",
            "61\n",
            "49\n"
          ]
        },
        {
          "output_type": "execute_result",
          "data": {
            "text/plain": [
              "15"
            ]
          },
          "metadata": {},
          "execution_count": 18
        }
      ]
    },
    {
      "cell_type": "markdown",
      "source": [
        "##Python Assignment Operator"
      ],
      "metadata": {
        "id": "tHKyjgju3p_u"
      }
    },
    {
      "cell_type": "code",
      "source": [
        "x = 6\n",
        "\n",
        "x//=3\n",
        "print(x) #x = x//3"
      ],
      "metadata": {
        "colab": {
          "base_uri": "https://localhost:8080/"
        },
        "id": "Ft7QLH5q3vsR",
        "outputId": "ff76e77e-06a8-4eae-af3a-a07acdb30a97"
      },
      "execution_count": 19,
      "outputs": [
        {
          "output_type": "stream",
          "name": "stdout",
          "text": [
            "2\n"
          ]
        }
      ]
    },
    {
      "cell_type": "markdown",
      "source": [
        "##Logical Operators"
      ],
      "metadata": {
        "id": "4bdU-DJN32xc"
      }
    },
    {
      "cell_type": "code",
      "source": [
        "x = True\n",
        "y = False\n",
        "\n",
        "print(x and y)\n",
        "print(x or y)"
      ],
      "metadata": {
        "colab": {
          "base_uri": "https://localhost:8080/"
        },
        "id": "SxvOoFHy34eo",
        "outputId": "35406088-b851-41ec-d56f-44c36fdcf6a9"
      },
      "execution_count": 20,
      "outputs": [
        {
          "output_type": "stream",
          "name": "stdout",
          "text": [
            "False\n",
            "True\n"
          ]
        }
      ]
    },
    {
      "cell_type": "markdown",
      "source": [
        "#Identity Operators"
      ],
      "metadata": {
        "id": "7gB3CgFN4CWA"
      }
    },
    {
      "cell_type": "code",
      "source": [
        "  x is y\n",
        "  x is not y"
      ],
      "metadata": {
        "colab": {
          "base_uri": "https://localhost:8080/"
        },
        "id": "vxVUPqPr4Eix",
        "outputId": "c27589c4-2861-4aac-ad8a-ff0c2e220948"
      },
      "execution_count": 21,
      "outputs": [
        {
          "output_type": "execute_result",
          "data": {
            "text/plain": [
              "True"
            ]
          },
          "metadata": {},
          "execution_count": 21
        }
      ]
    }
  ]
}