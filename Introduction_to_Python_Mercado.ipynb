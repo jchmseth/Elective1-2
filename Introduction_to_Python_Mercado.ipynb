{
  "nbformat": 4,
  "nbformat_minor": 0,
  "metadata": {
    "colab": {
      "name": "Introduction to Python - Mercado.ipynb",
      "provenance": [],
      "authorship_tag": "ABX9TyO6sl2MSG07iZyo3NLJdE26",
      "include_colab_link": true
    },
    "kernelspec": {
      "name": "python3",
      "display_name": "Python 3"
    },
    "language_info": {
      "name": "python"
    }
  },
  "cells": [
    {
      "cell_type": "markdown",
      "metadata": {
        "id": "view-in-github",
        "colab_type": "text"
      },
      "source": [
        "<a href=\"https://colab.research.google.com/github/jchmseth/Elective1-2/blob/main/Introduction_to_Python_Mercado.ipynb\" target=\"_parent\"><img src=\"https://colab.research.google.com/assets/colab-badge.svg\" alt=\"Open In Colab\"/></a>"
      ]
    },
    {
      "cell_type": "markdown",
      "source": [
        "##Python Indention"
      ],
      "metadata": {
        "id": "OE4GXXIzQDpF"
      }
    },
    {
      "cell_type": "code",
      "source": [
        "      if 2>5:\n",
        "        print(\"5 is greater than 2\")\n",
        "      else:\n",
        "        print(\"2 is less than 5\")"
      ],
      "metadata": {
        "colab": {
          "base_uri": "https://localhost:8080/"
        },
        "id": "0eqisO0sQFa5",
        "outputId": "aa163a87-8c9f-418f-c6f8-e1acc6421a33"
      },
      "execution_count": 1,
      "outputs": [
        {
          "output_type": "stream",
          "name": "stdout",
          "text": [
            "2 is less than 5\n"
          ]
        }
      ]
    },
    {
      "cell_type": "code",
      "source": [
        "  x = 'Stella'\n",
        "  y = -4.56\n",
        "\n",
        "  print(x)\n",
        "  print(y)\n",
        "  "
      ],
      "metadata": {
        "colab": {
          "base_uri": "https://localhost:8080/"
        },
        "id": "qnp23FhbQRTL",
        "outputId": "1fe4a277-1851-4fe6-ae6b-a9a10a5a748e"
      },
      "execution_count": 2,
      "outputs": [
        {
          "output_type": "stream",
          "name": "stdout",
          "text": [
            "Stella\n",
            "-4.56\n"
          ]
        }
      ]
    },
    {
      "cell_type": "code",
      "source": [
        "  print(type(x))\n",
        "  print(type(y))"
      ],
      "metadata": {
        "colab": {
          "base_uri": "https://localhost:8080/"
        },
        "id": "ikJN3pPEQaT8",
        "outputId": "02daaea0-a04e-43f0-eb1a-f048afb3eace"
      },
      "execution_count": 3,
      "outputs": [
        {
          "output_type": "stream",
          "name": "stdout",
          "text": [
            "<class 'str'>\n",
            "<class 'float'>\n"
          ]
        }
      ]
    }
  ]
}